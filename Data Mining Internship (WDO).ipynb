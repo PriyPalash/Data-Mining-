{
 "cells": [
  {
   "cell_type": "markdown",
   "id": "d7cee194",
   "metadata": {},
   "source": [
    "## Task : We need to extract details of different NGO's from websites.\n",
    "\n",
    "Here we will use standard web scrapping methods to solve this problem."
   ]
  },
  {
   "cell_type": "code",
   "execution_count": 40,
   "id": "b9acda2d",
   "metadata": {},
   "outputs": [],
   "source": [
    "'''We first import all the necessary libraries and packages we would need for this project.'''\n",
    "\n",
    "import requests     # This will help reach website url to ectract source code.\n",
    "import lxml         # BeautifulScop will use this to read text source code to html like code.\n",
    "import bs4          # This will help us customixe our search on of the most essential library.\n",
    "import pandas as pd # This would help to store data."
   ]
  },
  {
   "cell_type": "code",
   "execution_count": 172,
   "id": "3d1da04c",
   "metadata": {},
   "outputs": [],
   "source": [
    "''' Here we have itterated over all the pages from 35 to 75 on website using requests.'''\n",
    "\n",
    "# K is a placeholder value to  later be used for data allocation to data frame.\n",
    "k = 1\n",
    "\n",
    "# This is an empty data frame to later be stored NGO's data in.\n",
    "df = pd.DataFrame(columns=('Name', 'Registration_No', 'City', 'address','Sector Working in'))\n",
    "\n",
    "# Here we itterate over all the pages required (i.e 35-75) \n",
    "for rtn in range(35,75,1):\n",
    "    \n",
    "    # NGO data has 5 columns on website thus we make index in pair of 5 to extract required data.\n",
    "    for i in range(0,50,5):\n",
    "        \n",
    "        # We request page here one at a time.\n",
    "        page = requests.get((\"https://ngodarpan.gov.in/index.php/home/statewise_ngo/2113/18/{}?\").format(rtn))\n",
    "        \n",
    "        # We made beautiful scop to get specific details.\n",
    "        soup = bs4.BeautifulSoup(page.text,\"lxml\")\n",
    "        \n",
    "        # We assign this list a name.\n",
    "        list_of_data = soup.select('td')\n",
    "        \n",
    "        # Second column has 3 details we use .split() method to get these 3 details.\n",
    "        details = list_of_data[i+2].text\n",
    "        \n",
    "        # As registration number and city names are ',' seperated we would use this to divide data.\n",
    "        details_list = details.split(',')\n",
    "        \n",
    "        # Here we will addign every NGO's details to DataFrame.\n",
    "        df.loc[k] = list_of_data[i+1].text, details_list[0], details_list[1], list_of_data[i+3].text.replace(\"\\n\",\"\"),list_of_data[i+4].text\n",
    "        \n",
    "        # We would change placeholder so that next NGO gets allocated to next row.\n",
    "        k +=1"
   ]
  },
  {
   "cell_type": "code",
   "execution_count": 180,
   "id": "864d1fd8",
   "metadata": {},
   "outputs": [
    {
     "data": {
      "text/html": [
       "<div>\n",
       "<style scoped>\n",
       "    .dataframe tbody tr th:only-of-type {\n",
       "        vertical-align: middle;\n",
       "    }\n",
       "\n",
       "    .dataframe tbody tr th {\n",
       "        vertical-align: top;\n",
       "    }\n",
       "\n",
       "    .dataframe thead th {\n",
       "        text-align: right;\n",
       "    }\n",
       "</style>\n",
       "<table border=\"1\" class=\"dataframe\">\n",
       "  <thead>\n",
       "    <tr style=\"text-align: right;\">\n",
       "      <th></th>\n",
       "      <th>Name</th>\n",
       "      <th>Registration_No</th>\n",
       "      <th>City</th>\n",
       "      <th>address</th>\n",
       "      <th>Sector Working in</th>\n",
       "      <th>State</th>\n",
       "    </tr>\n",
       "  </thead>\n",
       "  <tbody>\n",
       "    <tr>\n",
       "      <th>1</th>\n",
       "      <td>BONPURA ADARSHA KALYAN NGO</td>\n",
       "      <td>RS/NAL/246/O/54</td>\n",
       "      <td>NALBARI (ASSAM)</td>\n",
       "      <td>VILLAGE BONPURA, PS MUKALMUA, NALBARI DISTRICT...</td>\n",
       "      <td>Animal Husbandry, Dairying  &amp;  Fisheries,Art &amp;...</td>\n",
       "      <td>Assam</td>\n",
       "    </tr>\n",
       "    <tr>\n",
       "      <th>2</th>\n",
       "      <td>BOR ASOM</td>\n",
       "      <td>RS/KAM(M)/263/F/466</td>\n",
       "      <td>Guwahati (ASSAM)</td>\n",
       "      <td>H/No. 109, Ground Floor, Dr. B. K. Kakoty Road...</td>\n",
       "      <td>Art &amp; Culture,Civic Issues,Disaster Management...</td>\n",
       "      <td>Assam</td>\n",
       "    </tr>\n",
       "    <tr>\n",
       "      <th>3</th>\n",
       "      <td>BORAIBARI DEVELOPMENT SOCIETY</td>\n",
       "      <td>RS/KJR/253/T/24 OF 2019-2020</td>\n",
       "      <td>KOKRAJHAR (ASSAM)</td>\n",
       "      <td>HO-BALAPARA PART-1,PO- SAPATGRAM ,PS- GOSSAIGA...</td>\n",
       "      <td>Agriculture,Animal Husbandry, Dairying  &amp;  Fis...</td>\n",
       "      <td>Assam</td>\n",
       "    </tr>\n",
       "    <tr>\n",
       "      <th>4</th>\n",
       "      <td>Borak valley rastravasha prachar samity</td>\n",
       "      <td>4147</td>\n",
       "      <td>LAKHIPUR (ASSAM)</td>\n",
       "      <td>VILL</td>\n",
       "      <td>Data Not Found</td>\n",
       "      <td>Assam</td>\n",
       "    </tr>\n",
       "    <tr>\n",
       "      <th>5</th>\n",
       "      <td>BORBHAG HINDI BIDYALAYA SAMITEE</td>\n",
       "      <td>RS/NL/B/246/69  of1999-2000</td>\n",
       "      <td>NALBARI (ASSAM)</td>\n",
       "      <td>BORBHAG HINDI BIDYALAYA SAMITEEVILL- TORMATHA,...</td>\n",
       "      <td>Education &amp; Literacy</td>\n",
       "      <td>Assam</td>\n",
       "    </tr>\n",
       "  </tbody>\n",
       "</table>\n",
       "</div>"
      ],
      "text/plain": [
       "                                       Name               Registration_No  \\\n",
       "1                BONPURA ADARSHA KALYAN NGO               RS/NAL/246/O/54   \n",
       "2                                  BOR ASOM           RS/KAM(M)/263/F/466   \n",
       "3             BORAIBARI DEVELOPMENT SOCIETY  RS/KJR/253/T/24 OF 2019-2020   \n",
       "4   Borak valley rastravasha prachar samity                          4147   \n",
       "5           BORBHAG HINDI BIDYALAYA SAMITEE   RS/NL/B/246/69  of1999-2000   \n",
       "\n",
       "                 City                                            address  \\\n",
       "1     NALBARI (ASSAM)  VILLAGE BONPURA, PS MUKALMUA, NALBARI DISTRICT...   \n",
       "2    Guwahati (ASSAM)  H/No. 109, Ground Floor, Dr. B. K. Kakoty Road...   \n",
       "3   KOKRAJHAR (ASSAM)  HO-BALAPARA PART-1,PO- SAPATGRAM ,PS- GOSSAIGA...   \n",
       "4    LAKHIPUR (ASSAM)                                              VILL    \n",
       "5     NALBARI (ASSAM)  BORBHAG HINDI BIDYALAYA SAMITEEVILL- TORMATHA,...   \n",
       "\n",
       "                                   Sector Working in  State  \n",
       "1  Animal Husbandry, Dairying  &  Fisheries,Art &...  Assam  \n",
       "2  Art & Culture,Civic Issues,Disaster Management...  Assam  \n",
       "3  Agriculture,Animal Husbandry, Dairying  &  Fis...  Assam  \n",
       "4                                     Data Not Found  Assam  \n",
       "5                               Education & Literacy  Assam  "
      ]
     },
     "execution_count": 180,
     "metadata": {},
     "output_type": "execute_result"
    }
   ],
   "source": [
    "# Calling head method on dataframe to see our collected data.\n",
    "\n",
    "df.head()"
   ]
  },
  {
   "cell_type": "code",
   "execution_count": 174,
   "id": "d7718d0c",
   "metadata": {},
   "outputs": [],
   "source": [
    "# Next task is to add state Column to our data frame we would use pandas series method to do this.\n",
    "\n",
    "state_name = ['Assam']*400\n",
    "df[\"State\"] = pd.Series(state_name, index = df.index)"
   ]
  },
  {
   "cell_type": "code",
   "execution_count": 187,
   "id": "2603c321",
   "metadata": {},
   "outputs": [],
   "source": [
    "# Last step is to convert our data file to Excel sheet. we would use to_excel() method to do this.\n",
    "\n",
    "df.to_excel(\"E:\\\\InternShip\\\\Data Mining Internship (WDO)\\\\NGO_DATA_35-75(1).xlsx\", index=False)"
   ]
  }
 ],
 "metadata": {
  "kernelspec": {
   "display_name": "Python 3 (ipykernel)",
   "language": "python",
   "name": "python3"
  },
  "language_info": {
   "codemirror_mode": {
    "name": "ipython",
    "version": 3
   },
   "file_extension": ".py",
   "mimetype": "text/x-python",
   "name": "python",
   "nbconvert_exporter": "python",
   "pygments_lexer": "ipython3",
   "version": "3.8.12"
  }
 },
 "nbformat": 4,
 "nbformat_minor": 5
}
